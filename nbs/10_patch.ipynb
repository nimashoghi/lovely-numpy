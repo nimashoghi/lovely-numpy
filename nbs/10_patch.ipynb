{
 "cells": [
  {
   "cell_type": "markdown",
   "id": "719fe64b",
   "metadata": {},
   "source": [
    "# 🙈 Monkey-patching"
   ]
  },
  {
   "cell_type": "code",
   "execution_count": 1,
   "id": "e7a9f9a5",
   "metadata": {},
   "outputs": [],
   "source": [
    "#| default_exp patch"
   ]
  },
  {
   "cell_type": "code",
   "execution_count": 2,
   "id": "e9909d91",
   "metadata": {},
   "outputs": [],
   "source": [
    "# |hide\n",
    "from nbdev.showdoc import *"
   ]
  },
  {
   "cell_type": "code",
   "execution_count": 3,
   "id": "d12ffeaa",
   "metadata": {},
   "outputs": [],
   "source": [
    "#| hide\n",
    "#| export\n",
    "import numpy as np\n",
    "from lovely_numpy.repr_str import StrProxy"
   ]
  },
  {
   "cell_type": "code",
   "execution_count": 4,
   "id": "e05d7cde",
   "metadata": {},
   "outputs": [],
   "source": [
    "# |export\n",
    "def monkey_patch():\n",
    "    \"Monkey-patch lovely features into `numpy.ndarray`\" \n",
    "\n",
    "    def _repr(self: np.ndarray):\n",
    "        return str(StrProxy(self))\n",
    "\n",
    "    np.set_string_function(_repr, False)\n",
    "    np.set_string_function(_repr, True)"
   ]
  },
  {
   "cell_type": "code",
   "execution_count": 5,
   "id": "104bbf35",
   "metadata": {},
   "outputs": [],
   "source": [
    "monkey_patch()"
   ]
  },
  {
   "cell_type": "code",
   "execution_count": 6,
   "id": "818ba671",
   "metadata": {},
   "outputs": [],
   "source": [
    "image = np.load(\"mysteryman.npy\")"
   ]
  },
  {
   "cell_type": "code",
   "execution_count": 7,
   "id": "5773d59a",
   "metadata": {},
   "outputs": [
    {
     "data": {
      "text/plain": [
       "ndarray[2, 6] f32 n=12 x∈[-3.541e+03, -3.369e-05] μ=-393.776 σ=1.113e+03 \u001b[31m+Inf!\u001b[0m \u001b[31m-Inf!\u001b[0m \u001b[31mNaN!\u001b[0m"
      ]
     },
     "execution_count": 7,
     "metadata": {},
     "output_type": "execute_result"
    }
   ],
   "source": [
    "spicy = image.flatten()[:12].copy()\n",
    "\n",
    "spicy[0] *= 10000\n",
    "spicy[1] /= 10000\n",
    "spicy[2] = float('inf')\n",
    "spicy[3] = float('-inf')\n",
    "spicy[4] = float('nan')\n",
    "\n",
    "spicy = spicy.reshape((2,6))\n",
    "spicy"
   ]
  }
 ],
 "metadata": {
  "kernelspec": {
   "display_name": "Python 3.10.6 ('torch')",
   "language": "python",
   "name": "python3"
  },
  "language_info": {
   "codemirror_mode": {
    "name": "ipython",
    "version": 3
   },
   "file_extension": ".py",
   "mimetype": "text/x-python",
   "name": "python",
   "nbconvert_exporter": "python",
   "pygments_lexer": "ipython3",
   "version": "3.10.6"
  },
  "vscode": {
   "interpreter": {
    "hash": "6be5eb67bb380238eb3fdb5608a5262f71c7ac5508d0890c6e2462bfc99ed11d"
   }
  }
 },
 "nbformat": 4,
 "nbformat_minor": 5
}
